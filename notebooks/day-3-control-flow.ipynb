{
 "cells": [
  {
   "cell_type": "markdown",
   "metadata": {},
   "source": [
    "# Day 3: Control flow"
   ]
  },
  {
   "cell_type": "markdown",
   "metadata": {},
   "source": [
    "### Topics\n",
    "\n",
    "- control flow\n",
    "  - conditionals (if/switch/ternary)\n",
    "  - loops (while/do/for)\n",
    "  - jumps (break/continue/goto)\n",
    "<!-- - more program structure\n",
    "  - scopes & blocks -->"
   ]
  },
  {
   "cell_type": "markdown",
   "metadata": {},
   "source": [
    "#### 1. Conditionals"
   ]
  },
  {
   "cell_type": "markdown",
   "metadata": {},
   "source": [
    "**1.1. `if-else`**\n",
    "\n",
    "Write a short C program in which you test whether an input unsigned integer $n \\in \\mathbb{N}$ is even ($n \\mod 2 = 0$) or odd ($n \\mod 2 = 1$). If it is even print $n/2$; if it is odd, print $3n + 1$. You may recognize this as the [Collatz map](https://en.wikipedia.org/wiki/Collatz_conjecture)."
   ]
  },
  {
   "cell_type": "code",
   "execution_count": null,
   "metadata": {},
   "outputs": [],
   "source": [
    "//// collatz-map.c\n",
    "\n",
    "int main(void) {\n",
    "    return 0;\n",
    "}"
   ]
  },
  {
   "cell_type": "markdown",
   "metadata": {},
   "source": [
    "**1.2. `switch-case`**\n",
    "\n",
    "Write a short C program which takes user input for the day, month, and year as unsigned integer values, and then prints the date these correspond to in English format. That is, if the inputs are `12`, `1`, `1968` then your program should print `January 12, 1968`."
   ]
  },
  {
   "cell_type": "code",
   "execution_count": null,
   "metadata": {},
   "outputs": [],
   "source": [
    "//// print-the-date.c\n",
    "\n",
    "int main(void) {\n",
    "    return 0;\n",
    "}"
   ]
  },
  {
   "cell_type": "markdown",
   "metadata": {},
   "source": [
    "**1.3. `?...:...`** (the *ternary* operator)\n",
    "\n",
    "The ternary operator syntax is a convenient shorthand for `if ... else` statements, but is an **expression**, and can thus appear on the right-hand side of an assignment. This expressivity means that it can affect assignment easily. We will use the ternary operator to check whether a user-input year is a leap year, by checking whether it evenly divides $4$, $100$, and/or $400$. Translate the `if ... else` conditional structures in `ternary-tests.c` below into ternary `? ... : ...` ones. Try to make the actual detection of the leap year decision happen on a single line, and reduce the number of print statements so each is unique.\n",
    "\n",
    "````c\n",
    "//// ternary-tests.c\n",
    "#include <stdio.h>\n",
    "\n",
    "int main(){\n",
    "\tint year;\n",
    "\tprintf(\"Please input a year:\\n\");\n",
    "\tscanf(\"%d\", &year);\n",
    "\tif (year % 4==0){\n",
    "\t\tif (year % 100!=0){\n",
    "\t\t\tprintf(\"\\t%d is a leap year!\\n\", year);\n",
    "\t\t}\n",
    "\t\telse{\n",
    "\t\t\tif (year % 400==0){\n",
    "\t\t\t\tprintf(\"\\t%d is a leap year!\\n\", year);\n",
    "\t\t\t}\n",
    "\t\t\telse{\n",
    "\t\t\t\tprintf(\"\\t%d is not a leap year!\\n\", year);\n",
    "\t\t\t}\n",
    "\t\t}\n",
    "\t}\n",
    "\telse{\n",
    "\t\tprintf(\"\\t%d is not a leap year.\\n\", year);\n",
    "\t}\n",
    "    return 0;\n",
    "}\n",
    "````"
   ]
  },
  {
   "cell_type": "code",
   "execution_count": null,
   "metadata": {},
   "outputs": [],
   "source": [
    "//// ternary-tests.c\n",
    "#include <stdio.h>\n",
    "\n",
    "int main(void){\n",
    "\tint year;\n",
    "\tprintf(\"Please input a year:\\n\");\n",
    "\tscanf(\"%d\", &year);\n",
    "    // your solution here!\t\n",
    "    return 0;\n",
    "}"
   ]
  },
  {
   "cell_type": "markdown",
   "metadata": {},
   "source": [
    "#### 2. Loops"
   ]
  },
  {
   "cell_type": "markdown",
   "metadata": {},
   "source": [
    "**2.1. `while`**\n",
    "\n",
    "Using your Collatz map code from above, implement a checker for the [Collatz conjecture](https://en.wikipedia.org/wiki/Collatz_conjecture) for a user input `unsigned int`. Correctly track the iteration and include that in a print out in the loop which includes the iteration, current iterate, and the mapping of the current iterate.\n",
    "\n",
    "Instead of the usual\n",
    "\n",
    "$$\n",
    "    f(n)  = \t\\begin{cases} \n",
    "                    n/2, \t&\\quad n \\mod 2 = 0\\\\\n",
    "                    3n+1, &\\quad n \\mod 2 = 1\n",
    "                \\end{cases}\n",
    "$$\n",
    "You may want to use\n",
    "\n",
    "$$\n",
    "    f(n) = \t\\begin{cases} \n",
    "                    n/2, \t\t\t&\\quad n \\mod 2 = 0\\\\\n",
    "                    (3n+1)/2, \t&\\quad n \\mod 2 = 1\n",
    "                \\end{cases}\n",
    "$$\n",
    "\n",
    "so that the running time of your program is lessened.\n"
   ]
  },
  {
   "cell_type": "code",
   "execution_count": null,
   "metadata": {},
   "outputs": [],
   "source": [
    "//// collatz-checker.c\n",
    "\n",
    "int main(void) {\n",
    "    return 0;\n",
    "}"
   ]
  },
  {
   "cell_type": "markdown",
   "metadata": {},
   "source": [
    "**2.2. `do ... while`**\n",
    "\n",
    "The `do ... while` loop is much less common than `for` or `while` loops. These loops guarantee that the body of the loop is run at least once, which can be helpful for all sorts of dynamically terminating algorithms. Implement a cumulative sum program which repeatedly takes an `int` as user input and prints the running total, until and unless the user inputs `0`."
   ]
  },
  {
   "cell_type": "code",
   "execution_count": null,
   "metadata": {},
   "outputs": [],
   "source": [
    "//// running-total.c\n",
    "\n",
    "int main(void) {\n",
    "    return 0;\n",
    "}"
   ]
  },
  {
   "cell_type": "markdown",
   "metadata": {},
   "source": [
    "**2.3. `for`**\n",
    "\n",
    "The `for` loop is the true workhorse of C programming, and probably the most used in computational science applications. In this exercise we will look at the [logistic map](https://en.wikipedia.org/wiki/Logistic_map) and explore its dynamics. Write a short program which allocates two `double` arrays of length $M=500$, `double x[M], r[M]`. Assign the initial values $r_i = 0 + 4i/500$ and $x_i = 0.5$. For each index $i$, evaluate the logistic map for the $i$-th value of $x$, `x[i]`, using the $i$-th value of $r$, `r[i]`, for $N=100$ iterations:\n",
    "\n",
    "$$\n",
    "\tx_{i,n+1} \\leftarrow r_i \\cdot x_{i,n}(1-x_{i,n}).\n",
    "$$\n",
    "\n",
    "Using `fprintf` print your results to `stdout` first. Once this is working, extend your program to write your results to a file so that you can plot your data using your faviourite graph plotting software."
   ]
  },
  {
   "cell_type": "code",
   "execution_count": null,
   "metadata": {},
   "outputs": [],
   "source": [
    "//// logistic.c\n",
    "\n",
    "int main(void) {\n",
    "    return 0;\n",
    "}"
   ]
  },
  {
   "cell_type": "markdown",
   "metadata": {},
   "source": [
    "Write a program which re-implements the Collatz checker from earlier but, instead of asking for user input, exhaustively find the smallest input with the longest Collatz sequence among all possible values of `unsigned short int`. You might find [`limits.h`](https://en.cppreference.com/w/c/types/limits) useful here!"
   ]
  },
  {
   "cell_type": "code",
   "execution_count": null,
   "metadata": {},
   "outputs": [],
   "source": [
    "//// collatz-uint-short.c\n",
    "\n",
    "int main(void) {\n",
    "    return 0;\n",
    "}"
   ]
  },
  {
   "cell_type": "markdown",
   "metadata": {},
   "source": [
    "#### 3. Jumps"
   ]
  },
  {
   "cell_type": "markdown",
   "metadata": {},
   "source": [
    "**3.1. `continue` & `break`**\n",
    "\n",
    "In this exercise, we want to write a variant of [FizzBuzz](https://en.wikipedia.org/wiki/Fizz_buzz) - a drinking game for teaching children integer factorization - mixed with a bit of procedural poetry.\n",
    "\n",
    "First, you should create a string with enough characters so that it will be eerie to see some of it missing when printed out by the terminal. Maybe you could use a line from a favourite book or movie.\n",
    "\t\n",
    "Your program should iterate over $n \\in [1, L]$ where $L$ is the length of your string, and then for each $m \\in [1, n/2]$:\n",
    "\n",
    "- If $n$ is evenly divisible by $m$ but not $m+1$, then you should print out the $n-1$-th character in your string.\n",
    "- If $n$ is evenly divisible by $m$ and $m+1$, then you should print the $n/(m+1)$-th character before skipping to the next inner iteration.\n",
    "- If $n$ is evenly divisible by $m$ and $n \\mod (m+1) = m$, then you should skip to the next outer loop iteration.\n",
    "- If $n$ is not evenly divisible by $m$ but is evenly divisible by $m+1$, then you should print your whole string.\n",
    " \n",
    "After checking all these conditions, you should print the $m$-th character of the string."
   ]
  },
  {
   "cell_type": "code",
   "execution_count": null,
   "metadata": {},
   "outputs": [],
   "source": [
    "//// continue-break.c\n",
    "\n",
    "int main(void) {\n",
    "    return 0;\n",
    "}"
   ]
  },
  {
   "cell_type": "markdown",
   "metadata": {},
   "source": [
    "**3.2. `goto`**\n",
    "\n",
    "Write a variant of the exhaustive Collatz checker from earlier to search for the smallest `unsigned short int` which results in a sequence longer than some user-specified value. Your program should stop searching as soon as the smallest such result is found. Try this in 2 ways:\n",
    "\n",
    "- Using `break` (*hint*: remember that `break` only stops the inner-most looping construct).\n",
    "- Using a single, well-placed `goto` statement.\n",
    "\n",
    "The use of `goto` is often considered to be a \"code smell\", but there are a [few legitimate use-cases](https://c-faq.com/style/stylewars.html), such as breaking out of nested loops. Which approach do you think results in cleaner code in this case?"
   ]
  },
  {
   "cell_type": "code",
   "execution_count": null,
   "metadata": {},
   "outputs": [],
   "source": [
    "//// collatz-first-sequence-longer-than.c\n",
    "\n",
    "int main(void) {\n",
    "    return 0;\n",
    "}"
   ]
  },
  {
   "cell_type": "markdown",
   "metadata": {},
   "source": [
    "Let's now write a program which re-implements the original Collatz checker from earlier using `goto`, and conditionals **without loops**."
   ]
  },
  {
   "cell_type": "code",
   "execution_count": null,
   "metadata": {},
   "outputs": [],
   "source": [
    "//// collatz-checker-using-goto.c\n",
    "\n",
    "int main(void) {\n",
    "    return 0;\n",
    "}"
   ]
  }
 ],
 "metadata": {
  "kernelspec": {
   "display_name": "Auto-compile C/C++ (gcc)",
   "language": "",
   "name": "autocompile-gcc"
  },
  "language_info": {
   "codemirror_mode": "text/x-csrc",
   "name": "c"
  }
 },
 "nbformat": 4,
 "nbformat_minor": 4
}
