{
 "cells": [
  {
   "cell_type": "markdown",
   "id": "3b7301cf-0fe8-41f3-b780-4d06de37cb92",
   "metadata": {},
   "source": [
    "# Day 10 Mini Project II"
   ]
  },
  {
   "cell_type": "markdown",
   "id": "639225ab-c76f-40d0-a8fb-2a6e03180198",
   "metadata": {},
   "source": [
    "## Part I"
   ]
  },
  {
   "cell_type": "markdown",
   "id": "64df3760-9806-41de-bd67-c5f5c458a6f0",
   "metadata": {},
   "source": [
    "Write a C++ class `DoubleListD` implementing a doubly-linked list of doubles. Your class should implement the insertion (`<<`) operator to append values to the list, and it should implement a method `int get_length()` which returns the number of items in the list. Implement a `void print()` method to print the contents of the list. Ensure that the destructor properly cleans up the list of values, including any memory the class allocates.\n",
    "\n",
    "Implement a method `void sort()` which sorts the list in ascending order using the bubblesort algorithm.\n",
    "\n",
    "Delegate the comparison of two doubles in the list to a private method/external function with the signature `bool greater_than(double lhs, double rhs)` which returns `true` if `lhs` is greater than `rhs` and `false` otherwise.\n",
    "\n",
    "Your class might look something like this:\n",
    "\n",
    "```c++\n",
    "class DoubleListD {\n",
    "public:\n",
    "    DoubleListD() = default;\n",
    "    \n",
    "    ~DoubleListD() {\n",
    "      // implement the destructor  \n",
    "    };\n",
    "    \n",
    "    int get_length() {\n",
    "        // return the length\n",
    "    };\n",
    "    \n",
    "    void sort() {\n",
    "        // sort the list using bubblesort.\n",
    "    }\n",
    "    \n",
    "    void operator<<(DoubleListD &list, double d) {\n",
    "        // append d to list\n",
    "    }\n",
    "    \n",
    "private:\n",
    "    struct dlist *mhead;\n",
    "    struct dlist *mtail;\n",
    "    int mlength;\n",
    "};\n",
    "```\n",
    "\n",
    "Test your class in a separate file `test-list.cpp` which builds a list from user input and prints it."
   ]
  },
  {
   "cell_type": "markdown",
   "id": "557dd26d-2f7b-4564-b76b-d146d6864f36",
   "metadata": {},
   "source": [
    "## Part II"
   ]
  },
  {
   "cell_type": "markdown",
   "id": "99bdd5dc-3705-4172-9f96-01d24fcca543",
   "metadata": {},
   "source": [
    "Extend the `sort` method so that it accepts a parameter `compare` which is a pointer to a function with the signature `bool (double lhs, double rhs)`. This parameter allows the user to inject a comparison to be used during sorting, i.e. this parameter should be used inside `sort` to decide whether to swap adjacent values when sorting the list.\n",
    "\n",
    "Use this `compare` parameter and function pointers or non-capturing lambdas to sort the list in descending order, or by absolute value, or by difference from some fixed value, or by some other criterion you can think of.\n",
    "\n",
    "Again, test you class with user input in `test-list-2.cpp`."
   ]
  }
 ],
 "metadata": {
  "kernelspec": {
   "display_name": "Auto-compile C/C++ (gcc)",
   "language": "",
   "name": "autocompile-gcc"
  },
  "language_info": {
   "codemirror_mode": "text/x-csrc",
   "name": "c"
  }
 },
 "nbformat": 4,
 "nbformat_minor": 5
}
